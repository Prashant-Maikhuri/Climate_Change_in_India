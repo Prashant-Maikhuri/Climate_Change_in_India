{
 "cells": [
  {
   "cell_type": "code",
   "execution_count": 1,
   "metadata": {},
   "outputs": [],
   "source": [
    "import pandas as pd\n",
    "import numpy as np"
   ]
  },
  {
   "cell_type": "code",
   "execution_count": 2,
   "metadata": {},
   "outputs": [],
   "source": [
    "import matplotlib.pyplot as plt\n",
    "import seaborn as sns"
   ]
  },
  {
   "cell_type": "code",
   "execution_count": 3,
   "metadata": {},
   "outputs": [],
   "source": [
    "%matplotlib inline"
   ]
  },
  {
   "cell_type": "code",
   "execution_count": null,
   "metadata": {},
   "outputs": [],
   "source": []
  },
  {
   "cell_type": "code",
   "execution_count": 4,
   "metadata": {},
   "outputs": [],
   "source": [
    "data1 = pd.read_csv(\"air_index_ml.csv\")"
   ]
  },
  {
   "cell_type": "code",
   "execution_count": 5,
   "metadata": {},
   "outputs": [
    {
     "data": {
      "text/html": [
       "<div>\n",
       "<style scoped>\n",
       "    .dataframe tbody tr th:only-of-type {\n",
       "        vertical-align: middle;\n",
       "    }\n",
       "\n",
       "    .dataframe tbody tr th {\n",
       "        vertical-align: top;\n",
       "    }\n",
       "\n",
       "    .dataframe thead th {\n",
       "        text-align: right;\n",
       "    }\n",
       "</style>\n",
       "<table border=\"1\" class=\"dataframe\">\n",
       "  <thead>\n",
       "    <tr style=\"text-align: right;\">\n",
       "      <th></th>\n",
       "      <th>humidity</th>\n",
       "      <th>wind_speed</th>\n",
       "      <th>wind_direction</th>\n",
       "      <th>visibility_in_miles</th>\n",
       "      <th>dew_point</th>\n",
       "      <th>temperature</th>\n",
       "      <th>clouds_all</th>\n",
       "      <th>air_pollution_index</th>\n",
       "    </tr>\n",
       "  </thead>\n",
       "  <tbody>\n",
       "    <tr>\n",
       "      <th>0</th>\n",
       "      <td>89</td>\n",
       "      <td>2</td>\n",
       "      <td>329</td>\n",
       "      <td>1</td>\n",
       "      <td>1</td>\n",
       "      <td>288.28</td>\n",
       "      <td>40</td>\n",
       "      <td>121</td>\n",
       "    </tr>\n",
       "    <tr>\n",
       "      <th>1</th>\n",
       "      <td>67</td>\n",
       "      <td>3</td>\n",
       "      <td>330</td>\n",
       "      <td>1</td>\n",
       "      <td>1</td>\n",
       "      <td>289.36</td>\n",
       "      <td>75</td>\n",
       "      <td>178</td>\n",
       "    </tr>\n",
       "    <tr>\n",
       "      <th>2</th>\n",
       "      <td>66</td>\n",
       "      <td>3</td>\n",
       "      <td>329</td>\n",
       "      <td>2</td>\n",
       "      <td>2</td>\n",
       "      <td>289.58</td>\n",
       "      <td>90</td>\n",
       "      <td>113</td>\n",
       "    </tr>\n",
       "    <tr>\n",
       "      <th>3</th>\n",
       "      <td>66</td>\n",
       "      <td>3</td>\n",
       "      <td>329</td>\n",
       "      <td>5</td>\n",
       "      <td>5</td>\n",
       "      <td>290.13</td>\n",
       "      <td>90</td>\n",
       "      <td>20</td>\n",
       "    </tr>\n",
       "    <tr>\n",
       "      <th>4</th>\n",
       "      <td>65</td>\n",
       "      <td>3</td>\n",
       "      <td>329</td>\n",
       "      <td>7</td>\n",
       "      <td>7</td>\n",
       "      <td>291.14</td>\n",
       "      <td>75</td>\n",
       "      <td>281</td>\n",
       "    </tr>\n",
       "    <tr>\n",
       "      <th>...</th>\n",
       "      <td>...</td>\n",
       "      <td>...</td>\n",
       "      <td>...</td>\n",
       "      <td>...</td>\n",
       "      <td>...</td>\n",
       "      <td>...</td>\n",
       "      <td>...</td>\n",
       "      <td>...</td>\n",
       "    </tr>\n",
       "    <tr>\n",
       "      <th>33745</th>\n",
       "      <td>85</td>\n",
       "      <td>1</td>\n",
       "      <td>328</td>\n",
       "      <td>7</td>\n",
       "      <td>7</td>\n",
       "      <td>287.88</td>\n",
       "      <td>90</td>\n",
       "      <td>74</td>\n",
       "    </tr>\n",
       "    <tr>\n",
       "      <th>33746</th>\n",
       "      <td>70</td>\n",
       "      <td>1</td>\n",
       "      <td>24</td>\n",
       "      <td>2</td>\n",
       "      <td>2</td>\n",
       "      <td>286.95</td>\n",
       "      <td>90</td>\n",
       "      <td>81</td>\n",
       "    </tr>\n",
       "    <tr>\n",
       "      <th>33747</th>\n",
       "      <td>70</td>\n",
       "      <td>1</td>\n",
       "      <td>24</td>\n",
       "      <td>1</td>\n",
       "      <td>1</td>\n",
       "      <td>286.95</td>\n",
       "      <td>90</td>\n",
       "      <td>138</td>\n",
       "    </tr>\n",
       "    <tr>\n",
       "      <th>33748</th>\n",
       "      <td>66</td>\n",
       "      <td>1</td>\n",
       "      <td>42</td>\n",
       "      <td>6</td>\n",
       "      <td>6</td>\n",
       "      <td>285.75</td>\n",
       "      <td>90</td>\n",
       "      <td>229</td>\n",
       "    </tr>\n",
       "    <tr>\n",
       "      <th>33749</th>\n",
       "      <td>63</td>\n",
       "      <td>1</td>\n",
       "      <td>27</td>\n",
       "      <td>8</td>\n",
       "      <td>8</td>\n",
       "      <td>285.75</td>\n",
       "      <td>90</td>\n",
       "      <td>140</td>\n",
       "    </tr>\n",
       "  </tbody>\n",
       "</table>\n",
       "<p>33750 rows × 8 columns</p>\n",
       "</div>"
      ],
      "text/plain": [
       "       humidity  wind_speed  wind_direction  visibility_in_miles  dew_point  \\\n",
       "0            89           2             329                    1          1   \n",
       "1            67           3             330                    1          1   \n",
       "2            66           3             329                    2          2   \n",
       "3            66           3             329                    5          5   \n",
       "4            65           3             329                    7          7   \n",
       "...         ...         ...             ...                  ...        ...   \n",
       "33745        85           1             328                    7          7   \n",
       "33746        70           1              24                    2          2   \n",
       "33747        70           1              24                    1          1   \n",
       "33748        66           1              42                    6          6   \n",
       "33749        63           1              27                    8          8   \n",
       "\n",
       "       temperature  clouds_all  air_pollution_index  \n",
       "0           288.28          40                  121  \n",
       "1           289.36          75                  178  \n",
       "2           289.58          90                  113  \n",
       "3           290.13          90                   20  \n",
       "4           291.14          75                  281  \n",
       "...            ...         ...                  ...  \n",
       "33745       287.88          90                   74  \n",
       "33746       286.95          90                   81  \n",
       "33747       286.95          90                  138  \n",
       "33748       285.75          90                  229  \n",
       "33749       285.75          90                  140  \n",
       "\n",
       "[33750 rows x 8 columns]"
      ]
     },
     "execution_count": 5,
     "metadata": {},
     "output_type": "execute_result"
    }
   ],
   "source": [
    "data1"
   ]
  },
  {
   "cell_type": "code",
   "execution_count": 6,
   "metadata": {},
   "outputs": [
    {
     "data": {
      "text/plain": [
       "(33750, 8)"
      ]
     },
     "execution_count": 6,
     "metadata": {},
     "output_type": "execute_result"
    }
   ],
   "source": [
    "data1.shape"
   ]
  },
  {
   "cell_type": "code",
   "execution_count": 7,
   "metadata": {},
   "outputs": [
    {
     "name": "stdout",
     "output_type": "stream",
     "text": [
      "<class 'pandas.core.frame.DataFrame'>\n",
      "RangeIndex: 33750 entries, 0 to 33749\n",
      "Data columns (total 8 columns):\n",
      " #   Column               Non-Null Count  Dtype  \n",
      "---  ------               --------------  -----  \n",
      " 0   humidity             33750 non-null  int64  \n",
      " 1   wind_speed           33750 non-null  int64  \n",
      " 2   wind_direction       33750 non-null  int64  \n",
      " 3   visibility_in_miles  33750 non-null  int64  \n",
      " 4   dew_point            33750 non-null  int64  \n",
      " 5   temperature          33750 non-null  float64\n",
      " 6   clouds_all           33750 non-null  int64  \n",
      " 7   air_pollution_index  33750 non-null  int64  \n",
      "dtypes: float64(1), int64(7)\n",
      "memory usage: 2.1 MB\n"
     ]
    }
   ],
   "source": [
    "data1.info()"
   ]
  },
  {
   "cell_type": "code",
   "execution_count": 8,
   "metadata": {},
   "outputs": [
    {
     "data": {
      "text/html": [
       "<div>\n",
       "<style scoped>\n",
       "    .dataframe tbody tr th:only-of-type {\n",
       "        vertical-align: middle;\n",
       "    }\n",
       "\n",
       "    .dataframe tbody tr th {\n",
       "        vertical-align: top;\n",
       "    }\n",
       "\n",
       "    .dataframe thead th {\n",
       "        text-align: right;\n",
       "    }\n",
       "</style>\n",
       "<table border=\"1\" class=\"dataframe\">\n",
       "  <thead>\n",
       "    <tr style=\"text-align: right;\">\n",
       "      <th></th>\n",
       "      <th>humidity</th>\n",
       "      <th>wind_speed</th>\n",
       "      <th>wind_direction</th>\n",
       "      <th>visibility_in_miles</th>\n",
       "      <th>dew_point</th>\n",
       "      <th>temperature</th>\n",
       "      <th>clouds_all</th>\n",
       "      <th>air_pollution_index</th>\n",
       "    </tr>\n",
       "  </thead>\n",
       "  <tbody>\n",
       "    <tr>\n",
       "      <th>count</th>\n",
       "      <td>33750.000000</td>\n",
       "      <td>33750.000000</td>\n",
       "      <td>33750.000000</td>\n",
       "      <td>33750.000000</td>\n",
       "      <td>33750.000000</td>\n",
       "      <td>33750.000000</td>\n",
       "      <td>33750.000000</td>\n",
       "      <td>33750.000000</td>\n",
       "    </tr>\n",
       "    <tr>\n",
       "      <th>mean</th>\n",
       "      <td>71.209007</td>\n",
       "      <td>3.378193</td>\n",
       "      <td>199.471852</td>\n",
       "      <td>4.989748</td>\n",
       "      <td>4.989748</td>\n",
       "      <td>280.069587</td>\n",
       "      <td>50.458785</td>\n",
       "      <td>154.841422</td>\n",
       "    </tr>\n",
       "    <tr>\n",
       "      <th>std</th>\n",
       "      <td>16.852248</td>\n",
       "      <td>2.055792</td>\n",
       "      <td>99.841088</td>\n",
       "      <td>2.570021</td>\n",
       "      <td>2.570021</td>\n",
       "      <td>13.415256</td>\n",
       "      <td>38.871734</td>\n",
       "      <td>83.735515</td>\n",
       "    </tr>\n",
       "    <tr>\n",
       "      <th>min</th>\n",
       "      <td>13.000000</td>\n",
       "      <td>0.000000</td>\n",
       "      <td>0.000000</td>\n",
       "      <td>1.000000</td>\n",
       "      <td>1.000000</td>\n",
       "      <td>0.000000</td>\n",
       "      <td>0.000000</td>\n",
       "      <td>10.000000</td>\n",
       "    </tr>\n",
       "    <tr>\n",
       "      <th>25%</th>\n",
       "      <td>60.000000</td>\n",
       "      <td>2.000000</td>\n",
       "      <td>130.000000</td>\n",
       "      <td>3.000000</td>\n",
       "      <td>3.000000</td>\n",
       "      <td>271.720000</td>\n",
       "      <td>1.000000</td>\n",
       "      <td>83.000000</td>\n",
       "    </tr>\n",
       "    <tr>\n",
       "      <th>50%</th>\n",
       "      <td>72.000000</td>\n",
       "      <td>3.000000</td>\n",
       "      <td>200.000000</td>\n",
       "      <td>5.000000</td>\n",
       "      <td>5.000000</td>\n",
       "      <td>280.150000</td>\n",
       "      <td>64.000000</td>\n",
       "      <td>155.000000</td>\n",
       "    </tr>\n",
       "    <tr>\n",
       "      <th>75%</th>\n",
       "      <td>85.000000</td>\n",
       "      <td>5.000000</td>\n",
       "      <td>290.000000</td>\n",
       "      <td>7.000000</td>\n",
       "      <td>7.000000</td>\n",
       "      <td>290.620000</td>\n",
       "      <td>90.000000</td>\n",
       "      <td>228.000000</td>\n",
       "    </tr>\n",
       "    <tr>\n",
       "      <th>max</th>\n",
       "      <td>100.000000</td>\n",
       "      <td>16.000000</td>\n",
       "      <td>360.000000</td>\n",
       "      <td>9.000000</td>\n",
       "      <td>9.000000</td>\n",
       "      <td>308.240000</td>\n",
       "      <td>100.000000</td>\n",
       "      <td>299.000000</td>\n",
       "    </tr>\n",
       "  </tbody>\n",
       "</table>\n",
       "</div>"
      ],
      "text/plain": [
       "           humidity    wind_speed  wind_direction  visibility_in_miles  \\\n",
       "count  33750.000000  33750.000000    33750.000000         33750.000000   \n",
       "mean      71.209007      3.378193      199.471852             4.989748   \n",
       "std       16.852248      2.055792       99.841088             2.570021   \n",
       "min       13.000000      0.000000        0.000000             1.000000   \n",
       "25%       60.000000      2.000000      130.000000             3.000000   \n",
       "50%       72.000000      3.000000      200.000000             5.000000   \n",
       "75%       85.000000      5.000000      290.000000             7.000000   \n",
       "max      100.000000     16.000000      360.000000             9.000000   \n",
       "\n",
       "          dew_point   temperature    clouds_all  air_pollution_index  \n",
       "count  33750.000000  33750.000000  33750.000000         33750.000000  \n",
       "mean       4.989748    280.069587     50.458785           154.841422  \n",
       "std        2.570021     13.415256     38.871734            83.735515  \n",
       "min        1.000000      0.000000      0.000000            10.000000  \n",
       "25%        3.000000    271.720000      1.000000            83.000000  \n",
       "50%        5.000000    280.150000     64.000000           155.000000  \n",
       "75%        7.000000    290.620000     90.000000           228.000000  \n",
       "max        9.000000    308.240000    100.000000           299.000000  "
      ]
     },
     "execution_count": 8,
     "metadata": {},
     "output_type": "execute_result"
    }
   ],
   "source": [
    "data1.describe()"
   ]
  },
  {
   "cell_type": "code",
   "execution_count": 9,
   "metadata": {},
   "outputs": [
    {
     "data": {
      "text/plain": [
       "Index(['humidity', 'wind_speed', 'wind_direction', 'visibility_in_miles',\n",
       "       'dew_point', 'temperature', 'clouds_all', 'air_pollution_index'],\n",
       "      dtype='object')"
      ]
     },
     "execution_count": 9,
     "metadata": {},
     "output_type": "execute_result"
    }
   ],
   "source": [
    "data1.columns"
   ]
  },
  {
   "cell_type": "code",
   "execution_count": 10,
   "metadata": {},
   "outputs": [
    {
     "data": {
      "text/plain": [
       "<matplotlib.axes._subplots.AxesSubplot at 0x1892785b888>"
      ]
     },
     "execution_count": 10,
     "metadata": {},
     "output_type": "execute_result"
    },
    {
     "data": {
      "image/png": "[encoded data removed]",
      "text/plain": [
       "<Figure size 432x288 with 1 Axes>"
      ]
     },
     "metadata": {
      "needs_background": "light"
     },
     "output_type": "display_data"
    }
   ],
   "source": [
    "sns.distplot(data1[\"air_pollution_index\"])"
   ]
  },
  {
   "cell_type": "code",
   "execution_count": 47,
   "metadata": {},
   "outputs": [
    {
     "data": {
      "text/plain": [
       "<matplotlib.axes._subplots.AxesSubplot at 0x189350777c8>"
      ]
     },
     "execution_count": 47,
     "metadata": {},
     "output_type": "execute_result"
    },
    {
     "data": {
      "image/png": "[encoded data removed]",
      "text/plain": [
       "<Figure size 432x288 with 2 Axes>"
      ]
     },
     "metadata": {
      "needs_background": "light"
     },
     "output_type": "display_data"
    }
   ],
   "source": [
    "sns.heatmap(data1.corr())"
   ]
  },
  {
   "cell_type": "code",
   "execution_count": 48,
   "metadata": {},
   "outputs": [],
   "source": [
    "from sklearn.preprocessing import StandardScaler"
   ]
  },
  {
   "cell_type": "code",
   "execution_count": 49,
   "metadata": {},
   "outputs": [],
   "source": [
    "scaler = StandardScaler()"
   ]
  },
  {
   "cell_type": "code",
   "execution_count": 52,
   "metadata": {},
   "outputs": [
    {
     "data": {
      "text/plain": [
       "StandardScaler(copy=True, with_mean=True, with_std=True)"
      ]
     },
     "execution_count": 52,
     "metadata": {},
     "output_type": "execute_result"
    }
   ],
   "source": [
    "scaler.fit(data1.drop('air_pollution_index',axis=1))"
   ]
  },
  {
   "cell_type": "code",
   "execution_count": 56,
   "metadata": {},
   "outputs": [],
   "source": [
    "scaled_features = scaler.transform(data1.drop('air_pollution_index',axis=1))"
   ]
  },
  {
   "cell_type": "code",
   "execution_count": 58,
   "metadata": {},
   "outputs": [],
   "source": [
    "df_feat = pd.DataFrame(scaled_features, columns=data1.columns[:-1])"
   ]
  },
  {
   "cell_type": "code",
   "execution_count": 59,
   "metadata": {},
   "outputs": [
    {
     "data": {
      "text/html": [
       "<div>\n",
       "<style scoped>\n",
       "    .dataframe tbody tr th:only-of-type {\n",
       "        vertical-align: middle;\n",
       "    }\n",
       "\n",
       "    .dataframe tbody tr th {\n",
       "        vertical-align: top;\n",
       "    }\n",
       "\n",
       "    .dataframe thead th {\n",
       "        text-align: right;\n",
       "    }\n",
       "</style>\n",
       "<table border=\"1\" class=\"dataframe\">\n",
       "  <thead>\n",
       "    <tr style=\"text-align: right;\">\n",
       "      <th></th>\n",
       "      <th>humidity</th>\n",
       "      <th>wind_speed</th>\n",
       "      <th>wind_direction</th>\n",
       "      <th>visibility_in_miles</th>\n",
       "      <th>dew_point</th>\n",
       "      <th>temperature</th>\n",
       "      <th>clouds_all</th>\n",
       "    </tr>\n",
       "  </thead>\n",
       "  <tbody>\n",
       "    <tr>\n",
       "      <th>0</th>\n",
       "      <td>1.055720</td>\n",
       "      <td>-0.670405</td>\n",
       "      <td>1.297362</td>\n",
       "      <td>-1.552441</td>\n",
       "      <td>-1.552441</td>\n",
       "      <td>0.612030</td>\n",
       "      <td>-0.269063</td>\n",
       "    </tr>\n",
       "    <tr>\n",
       "      <th>1</th>\n",
       "      <td>-0.249763</td>\n",
       "      <td>-0.183967</td>\n",
       "      <td>1.307378</td>\n",
       "      <td>-1.552441</td>\n",
       "      <td>-1.552441</td>\n",
       "      <td>0.692536</td>\n",
       "      <td>0.631348</td>\n",
       "    </tr>\n",
       "    <tr>\n",
       "      <th>2</th>\n",
       "      <td>-0.309103</td>\n",
       "      <td>-0.183967</td>\n",
       "      <td>1.297362</td>\n",
       "      <td>-1.163334</td>\n",
       "      <td>-1.163334</td>\n",
       "      <td>0.708936</td>\n",
       "      <td>1.017238</td>\n",
       "    </tr>\n",
       "    <tr>\n",
       "      <th>3</th>\n",
       "      <td>-0.309103</td>\n",
       "      <td>-0.183967</td>\n",
       "      <td>1.297362</td>\n",
       "      <td>0.003989</td>\n",
       "      <td>0.003989</td>\n",
       "      <td>0.749934</td>\n",
       "      <td>1.017238</td>\n",
       "    </tr>\n",
       "    <tr>\n",
       "      <th>4</th>\n",
       "      <td>-0.368443</td>\n",
       "      <td>-0.183967</td>\n",
       "      <td>1.297362</td>\n",
       "      <td>0.782204</td>\n",
       "      <td>0.782204</td>\n",
       "      <td>0.825223</td>\n",
       "      <td>0.631348</td>\n",
       "    </tr>\n",
       "    <tr>\n",
       "      <th>...</th>\n",
       "      <td>...</td>\n",
       "      <td>...</td>\n",
       "      <td>...</td>\n",
       "      <td>...</td>\n",
       "      <td>...</td>\n",
       "      <td>...</td>\n",
       "      <td>...</td>\n",
       "    </tr>\n",
       "    <tr>\n",
       "      <th>33745</th>\n",
       "      <td>0.818359</td>\n",
       "      <td>-1.156843</td>\n",
       "      <td>1.287346</td>\n",
       "      <td>0.782204</td>\n",
       "      <td>0.782204</td>\n",
       "      <td>0.582212</td>\n",
       "      <td>1.017238</td>\n",
       "    </tr>\n",
       "    <tr>\n",
       "      <th>33746</th>\n",
       "      <td>-0.071743</td>\n",
       "      <td>-1.156843</td>\n",
       "      <td>-1.757537</td>\n",
       "      <td>-1.163334</td>\n",
       "      <td>-1.163334</td>\n",
       "      <td>0.512887</td>\n",
       "      <td>1.017238</td>\n",
       "    </tr>\n",
       "    <tr>\n",
       "      <th>33747</th>\n",
       "      <td>-0.071743</td>\n",
       "      <td>-1.156843</td>\n",
       "      <td>-1.757537</td>\n",
       "      <td>-1.552441</td>\n",
       "      <td>-1.552441</td>\n",
       "      <td>0.512887</td>\n",
       "      <td>1.017238</td>\n",
       "    </tr>\n",
       "    <tr>\n",
       "      <th>33748</th>\n",
       "      <td>-0.309103</td>\n",
       "      <td>-1.156843</td>\n",
       "      <td>-1.577248</td>\n",
       "      <td>0.393097</td>\n",
       "      <td>0.393097</td>\n",
       "      <td>0.423436</td>\n",
       "      <td>1.017238</td>\n",
       "    </tr>\n",
       "    <tr>\n",
       "      <th>33749</th>\n",
       "      <td>-0.487124</td>\n",
       "      <td>-1.156843</td>\n",
       "      <td>-1.727489</td>\n",
       "      <td>1.171312</td>\n",
       "      <td>1.171312</td>\n",
       "      <td>0.423436</td>\n",
       "      <td>1.017238</td>\n",
       "    </tr>\n",
       "  </tbody>\n",
       "</table>\n",
       "<p>33750 rows × 7 columns</p>\n",
       "</div>"
      ],
      "text/plain": [
       "       humidity  wind_speed  wind_direction  visibility_in_miles  dew_point  \\\n",
       "0      1.055720   -0.670405        1.297362            -1.552441  -1.552441   \n",
       "1     -0.249763   -0.183967        1.307378            -1.552441  -1.552441   \n",
       "2     -0.309103   -0.183967        1.297362            -1.163334  -1.163334   \n",
       "3     -0.309103   -0.183967        1.297362             0.003989   0.003989   \n",
       "4     -0.368443   -0.183967        1.297362             0.782204   0.782204   \n",
       "...         ...         ...             ...                  ...        ...   \n",
       "33745  0.818359   -1.156843        1.287346             0.782204   0.782204   \n",
       "33746 -0.071743   -1.156843       -1.757537            -1.163334  -1.163334   \n",
       "33747 -0.071743   -1.156843       -1.757537            -1.552441  -1.552441   \n",
       "33748 -0.309103   -1.156843       -1.577248             0.393097   0.393097   \n",
       "33749 -0.487124   -1.156843       -1.727489             1.171312   1.171312   \n",
       "\n",
       "       temperature  clouds_all  \n",
       "0         0.612030   -0.269063  \n",
       "1         0.692536    0.631348  \n",
       "2         0.708936    1.017238  \n",
       "3         0.749934    1.017238  \n",
       "4         0.825223    0.631348  \n",
       "...            ...         ...  \n",
       "33745     0.582212    1.017238  \n",
       "33746     0.512887    1.017238  \n",
       "33747     0.512887    1.017238  \n",
       "33748     0.423436    1.017238  \n",
       "33749     0.423436    1.017238  \n",
       "\n",
       "[33750 rows x 7 columns]"
      ]
     },
     "execution_count": 59,
     "metadata": {},
     "output_type": "execute_result"
    }
   ],
   "source": [
    "df_feat"
   ]
  },
  {
   "cell_type": "code",
   "execution_count": 60,
   "metadata": {},
   "outputs": [],
   "source": [
    "X = df_feat[['humidity', 'wind_speed', 'wind_direction', 'visibility_in_miles',\n",
    "       'dew_point', 'temperature', 'clouds_all']]"
   ]
  },
  {
   "cell_type": "code",
   "execution_count": 61,
   "metadata": {},
   "outputs": [],
   "source": [
    "y = data1[\"air_pollution_index\"]"
   ]
  },
  {
   "cell_type": "code",
   "execution_count": null,
   "metadata": {},
   "outputs": [],
   "source": []
  },
  {
   "cell_type": "code",
   "execution_count": 62,
   "metadata": {},
   "outputs": [],
   "source": [
    "from sklearn.model_selection import train_test_split"
   ]
  },
  {
   "cell_type": "code",
   "execution_count": 63,
   "metadata": {},
   "outputs": [],
   "source": [
    "X_train,X_test,y_train,y_test = train_test_split(X,y,test_size=0.4,random_state=101)"
   ]
  },
  {
   "cell_type": "code",
   "execution_count": 64,
   "metadata": {},
   "outputs": [],
   "source": [
    "from sklearn.linear_model import LinearRegression"
   ]
  },
  {
   "cell_type": "code",
   "execution_count": 65,
   "metadata": {},
   "outputs": [],
   "source": [
    "lm = LinearRegression()"
   ]
  },
  {
   "cell_type": "code",
   "execution_count": 66,
   "metadata": {},
   "outputs": [
    {
     "data": {
      "text/plain": [
       "LinearRegression(copy_X=True, fit_intercept=True, n_jobs=None, normalize=False)"
      ]
     },
     "execution_count": 66,
     "metadata": {},
     "output_type": "execute_result"
    }
   ],
   "source": [
    "lm.fit(X_train,y_train)"
   ]
  },
  {
   "cell_type": "code",
   "execution_count": 67,
   "metadata": {},
   "outputs": [
    {
     "data": {
      "text/plain": [
       "array([ 0.2249568 ,  0.03240539,  0.85865452, -0.01772103, -0.01772103,\n",
       "        0.32577829, -0.17129599])"
      ]
     },
     "execution_count": 67,
     "metadata": {},
     "output_type": "execute_result"
    }
   ],
   "source": [
    "lm.coef_"
   ]
  },
  {
   "cell_type": "code",
   "execution_count": 68,
   "metadata": {},
   "outputs": [],
   "source": [
    "cdf = pd.DataFrame(lm.coef_,X.columns,columns=[\"Coeff\"])"
   ]
  },
  {
   "cell_type": "code",
   "execution_count": 69,
   "metadata": {},
   "outputs": [
    {
     "data": {
      "text/html": [
       "<div>\n",
       "<style scoped>\n",
       "    .dataframe tbody tr th:only-of-type {\n",
       "        vertical-align: middle;\n",
       "    }\n",
       "\n",
       "    .dataframe tbody tr th {\n",
       "        vertical-align: top;\n",
       "    }\n",
       "\n",
       "    .dataframe thead th {\n",
       "        text-align: right;\n",
       "    }\n",
       "</style>\n",
       "<table border=\"1\" class=\"dataframe\">\n",
       "  <thead>\n",
       "    <tr style=\"text-align: right;\">\n",
       "      <th></th>\n",
       "      <th>Coeff</th>\n",
       "    </tr>\n",
       "  </thead>\n",
       "  <tbody>\n",
       "    <tr>\n",
       "      <th>humidity</th>\n",
       "      <td>0.224957</td>\n",
       "    </tr>\n",
       "    <tr>\n",
       "      <th>wind_speed</th>\n",
       "      <td>0.032405</td>\n",
       "    </tr>\n",
       "    <tr>\n",
       "      <th>wind_direction</th>\n",
       "      <td>0.858655</td>\n",
       "    </tr>\n",
       "    <tr>\n",
       "      <th>visibility_in_miles</th>\n",
       "      <td>-0.017721</td>\n",
       "    </tr>\n",
       "    <tr>\n",
       "      <th>dew_point</th>\n",
       "      <td>-0.017721</td>\n",
       "    </tr>\n",
       "    <tr>\n",
       "      <th>temperature</th>\n",
       "      <td>0.325778</td>\n",
       "    </tr>\n",
       "    <tr>\n",
       "      <th>clouds_all</th>\n",
       "      <td>-0.171296</td>\n",
       "    </tr>\n",
       "  </tbody>\n",
       "</table>\n",
       "</div>"
      ],
      "text/plain": [
       "                        Coeff\n",
       "humidity             0.224957\n",
       "wind_speed           0.032405\n",
       "wind_direction       0.858655\n",
       "visibility_in_miles -0.017721\n",
       "dew_point           -0.017721\n",
       "temperature          0.325778\n",
       "clouds_all          -0.171296"
      ]
     },
     "execution_count": 69,
     "metadata": {},
     "output_type": "execute_result"
    }
   ],
   "source": [
    "cdf"
   ]
  },
  {
   "cell_type": "code",
   "execution_count": null,
   "metadata": {},
   "outputs": [],
   "source": []
  },
  {
   "cell_type": "code",
   "execution_count": 70,
   "metadata": {},
   "outputs": [],
   "source": [
    "predictions = lm.predict(X_test)"
   ]
  },
  {
   "cell_type": "code",
   "execution_count": 71,
   "metadata": {},
   "outputs": [
    {
     "data": {
      "text/plain": [
       "array([154.6314371 , 155.20855255, 154.79561539, ..., 155.53065861,\n",
       "       154.59754095, 154.60629112])"
      ]
     },
     "execution_count": 71,
     "metadata": {},
     "output_type": "execute_result"
    }
   ],
   "source": [
    "predictions"
   ]
  },
  {
   "cell_type": "code",
   "execution_count": 72,
   "metadata": {},
   "outputs": [
    {
     "data": {
      "text/plain": [
       "2606     187\n",
       "7281      41\n",
       "17448    152\n",
       "29785    130\n",
       "16654    120\n",
       "        ... \n",
       "1378     195\n",
       "22034     32\n",
       "14634    177\n",
       "12211    247\n",
       "2509     114\n",
       "Name: air_pollution_index, Length: 13500, dtype: int64"
      ]
     },
     "execution_count": 72,
     "metadata": {},
     "output_type": "execute_result"
    }
   ],
   "source": [
    "y_test"
   ]
  },
  {
   "cell_type": "code",
   "execution_count": 73,
   "metadata": {},
   "outputs": [
    {
     "data": {
      "text/plain": [
       "<matplotlib.collections.PathCollection at 0x189366b8c08>"
      ]
     },
     "execution_count": 73,
     "metadata": {},
     "output_type": "execute_result"
    },
    {
     "data": {
      "image/png": "[encoded data removed]",
      "text/plain": [
       "<Figure size 432x288 with 1 Axes>"
      ]
     },
     "metadata": {
      "needs_background": "light"
     },
     "output_type": "display_data"
    }
   ],
   "source": [
    "plt.scatter(y_test,predictions)"
   ]
  },
  {
   "cell_type": "code",
   "execution_count": 74,
   "metadata": {},
   "outputs": [
    {
     "data": {
      "text/plain": [
       "<matplotlib.axes._subplots.AxesSubplot at 0x18936b55448>"
      ]
     },
     "execution_count": 74,
     "metadata": {},
     "output_type": "execute_result"
    },
    {
     "data": {
      "image/png": "[encoded data removed]",
      "text/plain": [
       "<Figure size 432x288 with 1 Axes>"
      ]
     },
     "metadata": {
      "needs_background": "light"
     },
     "output_type": "display_data"
    }
   ],
   "source": [
    "sns.distplot((y_test - predictions))"
   ]
  },
  {
   "cell_type": "code",
   "execution_count": 75,
   "metadata": {},
   "outputs": [],
   "source": [
    "from sklearn import metrics"
   ]
  },
  {
   "cell_type": "code",
   "execution_count": 76,
   "metadata": {},
   "outputs": [
    {
     "data": {
      "text/plain": [
       "72.30634223695697"
      ]
     },
     "execution_count": 76,
     "metadata": {},
     "output_type": "execute_result"
    }
   ],
   "source": [
    "metrics.mean_absolute_error(y_test,predictions)"
   ]
  },
  {
   "cell_type": "code",
   "execution_count": 77,
   "metadata": {},
   "outputs": [
    {
     "data": {
      "text/plain": [
       "6959.427398165745"
      ]
     },
     "execution_count": 77,
     "metadata": {},
     "output_type": "execute_result"
    }
   ],
   "source": [
    "metrics.mean_squared_error(y_test,predictions)"
   ]
  },
  {
   "cell_type": "code",
   "execution_count": 78,
   "metadata": {},
   "outputs": [
    {
     "data": {
      "text/plain": [
       "83.42318261829709"
      ]
     },
     "execution_count": 78,
     "metadata": {},
     "output_type": "execute_result"
    }
   ],
   "source": [
    "np.sqrt(metrics.mean_squared_error(y_test,predictions))"
   ]
  },
  {
   "cell_type": "code",
   "execution_count": null,
   "metadata": {},
   "outputs": [],
   "source": []
  },
  {
   "cell_type": "code",
   "execution_count": 79,
   "metadata": {},
   "outputs": [],
   "source": [
    "from sklearn.metrics import mean_squared_error"
   ]
  },
  {
   "cell_type": "code",
   "execution_count": 80,
   "metadata": {},
   "outputs": [],
   "source": [
    "def plot_learning_curves(model,x,y):\n",
    "    X_train,X_val,y_train,y_val = train_test_split(X,y,test_size=0.4)\n",
    "    val_errors = []\n",
    "    \n",
    "    for m in range(1,len(X_train)):\n",
    "        model.fit(X_train[:m],y_train[:m])\n",
    "        y_train_predict = model.predict(X_train[:m])\n",
    "        y_val_predict = model.predict(X_val)\n",
    "        val_errors.append(mean_squared_error(y_val_predict,y_val))\n",
    "    plt.plot(np.sqrt(val_errors),\"r-+\",linewidth=2,label='validation')\n",
    "    plt.legend()"
   ]
  },
  {
   "cell_type": "code",
   "execution_count": 81,
   "metadata": {},
   "outputs": [
    {
     "data": {
      "image/png": "[encoded data removed]",
      "text/plain": [
       "<Figure size 432x288 with 1 Axes>"
      ]
     },
     "metadata": {
      "needs_background": "light"
     },
     "output_type": "display_data"
    }
   ],
   "source": [
    "lin_reg = LinearRegression()\n",
    "plot_learning_curves(lin_reg,X,y)"
   ]
  },
  {
   "cell_type": "code",
   "execution_count": null,
   "metadata": {},
   "outputs": [],
   "source": []
  },
  {
   "cell_type": "code",
   "execution_count": null,
   "metadata": {},
   "outputs": [],
   "source": []
  },
  {
   "cell_type": "code",
   "execution_count": null,
   "metadata": {},
   "outputs": [],
   "source": []
  },
  {
   "cell_type": "code",
   "execution_count": null,
   "metadata": {},
   "outputs": [],
   "source": []
  },
  {
   "cell_type": "code",
   "execution_count": null,
   "metadata": {},
   "outputs": [],
   "source": []
  },
  {
   "cell_type": "code",
   "execution_count": null,
   "metadata": {},
   "outputs": [],
   "source": []
  },
  {
   "cell_type": "code",
   "execution_count": null,
   "metadata": {},
   "outputs": [],
   "source": []
  },
  {
   "cell_type": "code",
   "execution_count": null,
   "metadata": {},
   "outputs": [],
   "source": []
  }
 ],
 "metadata": {
  "kernelspec": {
   "display_name": "Python 3",
   "language": "python",
   "name": "python3"
  },
  "language_info": {
   "codemirror_mode": {
    "name": "ipython",
    "version": 3
   },
   "file_extension": ".py",
   "mimetype": "text/x-python",
   "name": "python",
   "nbconvert_exporter": "python",
   "pygments_lexer": "ipython3",
   "version": "3.7.6"
  }
 },
 "nbformat": 4,
 "nbformat_minor": 4
}
